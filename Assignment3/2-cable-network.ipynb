{
 "cells": [
  {
   "cell_type": "code",
   "execution_count": 6,
   "metadata": {},
   "outputs": [],
   "source": [
    "nodes = [\"A\", \"B\", \"C\", \"D\", \"E\", \"F\", \"G\", \"H\"]\n",
    "edges = [\n",
    "    (\"A\", \"B\", 5),\n",
    "    (\"A\", \"D\", 1),\n",
    "    (\"B\", \"D\", 4),\n",
    "    (\"B\", \"H\", 8),\n",
    "    (\"C\", \"D\", 2),\n",
    "    (\"C\", \"G\", 6),\n",
    "    (\"D\", \"E\", 2),\n",
    "    (\"D\", \"F\", 4),\n",
    "    (\"E\", \"H\", 8),\n",
    "    (\"F\", \"G\", 9),\n",
    "    (\"F\", \"H\", 7),\n",
    "]\n",
    "\n",
    "\n",
    "def sort_edges_output(edges):\n",
    "    return sorted(edges, key=lambda x: x[0])"
   ]
  },
  {
   "cell_type": "code",
   "execution_count": 7,
   "metadata": {},
   "outputs": [
    {
     "name": "stdout",
     "output_type": "stream",
     "text": [
      "{('D', 'F', 4), ('C', 'D', 2), ('D', 'E', 2), ('B', 'D', 4), ('C', 'G', 6), ('F', 'H', 7), ('A', 'D', 1)} 26\n"
     ]
    }
   ],
   "source": [
    "# task2-a\n",
    "\n",
    "\n",
    "def kruskal_mst(G, e):\n",
    "    tree = set()\n",
    "    parent = {}\n",
    "    total_weight = 0\n",
    "    # each node is its own parent in the beginning\n",
    "    for node in G:\n",
    "        parent[node] = node\n",
    "\n",
    "    sorted_edges = sorted(e, key=lambda x: x[2])\n",
    "    for edge in sorted_edges:\n",
    "        a, b, w = edge\n",
    "\n",
    "        set_a = parent[a]  # find_set(parent, a)\n",
    "        set_b = parent[b]  # find_set(parent, b)\n",
    "\n",
    "        if b not in set_a:\n",
    "\n",
    "            total_weight += w\n",
    "            # add edge to tree\n",
    "            tree.add(edge)\n",
    "\n",
    "            # merge set of a and b\n",
    "            for element in set_b:\n",
    "                parent[element] = a\n",
    "\n",
    "        # check if tree is finished\n",
    "        if len(tree) == len(G) - 1:\n",
    "            break\n",
    "    return tree, total_weight\n",
    "\n",
    "\n",
    "a, b = kruskal_mst(nodes, edges)\n",
    "print(a, b)"
   ]
  },
  {
   "cell_type": "code",
   "execution_count": 8,
   "metadata": {},
   "outputs": [
    {
     "name": "stdout",
     "output_type": "stream",
     "text": [
      "{('C', 'D', 2), ('A', 'B', 5), ('B', 'H', 8), ('D', 'E', 2), ('C', 'G', 6), ('F', 'H', 7), ('A', 'D', 1)} 31\n"
     ]
    }
   ],
   "source": [
    "# 2-b\n",
    "# modified version of 2a\n",
    "# task2-a\n",
    "# def find_set(parent, node):\n",
    "#     return parent[node]\n",
    "edges = [\n",
    "    (\"A\", \"B\", 5),\n",
    "    (\"A\", \"D\", 1),\n",
    "    (\"B\", \"D\", 4),\n",
    "    (\"B\", \"H\", 8),\n",
    "    (\"C\", \"D\", 2),\n",
    "    (\"C\", \"G\", 6),\n",
    "    (\"D\", \"E\", 2),\n",
    "    (\"D\", \"F\", 4),\n",
    "    (\"E\", \"H\", 8),\n",
    "    (\"F\", \"G\", 9),\n",
    "    (\"F\", \"H\", 7),\n",
    "]\n",
    "\n",
    "\n",
    "def kruskal_mst_limited_D(G, e):\n",
    "    tree = set()\n",
    "    parent = {}\n",
    "    total_weight = 0\n",
    "\n",
    "    # count edges for D\n",
    "    count_D = 0\n",
    "\n",
    "    # each node is its own parent in the beginning\n",
    "    for node in G:\n",
    "        parent[node] = node\n",
    "\n",
    "    sorted_edges = sorted(e, key=lambda x: x[2])\n",
    "    for edge in sorted_edges:\n",
    "        a, b, w = edge\n",
    "\n",
    "        set_a = parent[a]  # find_set(parent, a)\n",
    "        set_b = parent[b]  # find_set(parent, b)\n",
    "\n",
    "        if b not in set_a:\n",
    "            # check how many edges D has\n",
    "            if a == \"D\" or b == \"D\":\n",
    "                count_D += 1\n",
    "\n",
    "                if count_D > 3:\n",
    "\n",
    "                    continue\n",
    "\n",
    "            total_weight += w\n",
    "            # add edge to tree\n",
    "            tree.add(edge)\n",
    "\n",
    "            # merge set of a and b\n",
    "            for element in set_b:\n",
    "                parent[element] = a\n",
    "\n",
    "        # check if tree is finished\n",
    "        if len(tree) == len(G) - 1:\n",
    "            break\n",
    "    # print(count_D)\n",
    "    return tree, total_weight\n",
    "\n",
    "\n",
    "a, sum_limited_d = kruskal_mst_limited_D(nodes, edges)\n",
    "print(a, sum_limited_d)"
   ]
  },
  {
   "cell_type": "code",
   "execution_count": 9,
   "metadata": {},
   "outputs": [
    {
     "name": "stdout",
     "output_type": "stream",
     "text": [
      "{('D', 'F', 4), ('C', 'D', 2), ('A', 'B', 5), ('B', 'H', 8), ('D', 'E', 2), ('C', 'G', 6), ('F', 'H', 7)} 34\n",
      "{('D', 'F', 4), ('A', 'B', 5), ('B', 'H', 8), ('D', 'E', 2), ('B', 'D', 4), ('C', 'G', 6), ('F', 'H', 7)} 36\n",
      "{('D', 'F', 4), ('C', 'D', 2), ('A', 'B', 5), ('B', 'H', 8), ('B', 'D', 4), ('C', 'G', 6), ('F', 'H', 7)} 36\n",
      "{('C', 'D', 2), ('A', 'B', 5), ('B', 'H', 8), ('D', 'E', 2), ('B', 'D', 4), ('C', 'G', 6), ('F', 'H', 7)} 34\n",
      "{('D', 'F', 4), ('A', 'B', 5), ('B', 'H', 8), ('D', 'E', 2), ('C', 'G', 6), ('F', 'H', 7), ('A', 'D', 1)} 33\n",
      "{('D', 'F', 4), ('C', 'D', 2), ('A', 'B', 5), ('B', 'H', 8), ('C', 'G', 6), ('F', 'H', 7), ('A', 'D', 1)} 33\n",
      "{('C', 'D', 2), ('A', 'B', 5), ('B', 'H', 8), ('D', 'E', 2), ('C', 'G', 6), ('F', 'H', 7), ('A', 'D', 1)} 31\n",
      "{('D', 'F', 4), ('B', 'H', 8), ('E', 'H', 8), ('B', 'D', 4), ('C', 'G', 6), ('F', 'H', 7), ('A', 'D', 1)} 38\n",
      "{('B', 'H', 8), ('E', 'H', 8), ('D', 'E', 2), ('B', 'D', 4), ('C', 'G', 6), ('F', 'H', 7), ('A', 'D', 1)} 36\n",
      "{('C', 'D', 2), ('B', 'H', 8), ('E', 'H', 8), ('B', 'D', 4), ('C', 'G', 6), ('F', 'H', 7), ('A', 'D', 1)} 36\n"
     ]
    }
   ],
   "source": [
    "# brute force approach to see if kruskal_mst_limited_D gives the optimal solution\n",
    "# 1,2,4,6,7 are the index of the edges that contain node D\n",
    "\n",
    "import copy\n",
    "\n",
    "abc = [[1, 2], [1, 4], [1, 6], [1, 7], [2, 4], [2, 6], [2, 7], [4, 6], [4, 7], [6, 7]]\n",
    "\n",
    "for i in range(len(abc)):\n",
    "    # modified_nodes=copy.deepcopy(nodes)\n",
    "    filtered_edges = [edges[j] for j in range(len(edges)) if j not in abc[i]]\n",
    "\n",
    "    # filtered_numbers = [edges[i] for i in range(len(edges)) if i not in abc[i]]\n",
    "    tree, sum = kruskal_mst_limited_D(nodes, filtered_edges)\n",
    "    if sum < sum_limited_d:\n",
    "        print(\"sum\", sum, \"is mot optimal\")\n",
    "        print(tree)\n",
    "    else:\n",
    "        print(tree, sum)"
   ]
  },
  {
   "cell_type": "code",
   "execution_count": 11,
   "metadata": {},
   "outputs": [
    {
     "name": "stdout",
     "output_type": "stream",
     "text": [
      "{('D', 'F', 4), ('C', 'D', 2), ('F', 'H', 5), ('D', 'E', 2), ('B', 'D', 4), ('C', 'G', 6), ('A', 'D', 1)} 24\n"
     ]
    }
   ],
   "source": [
    "# task 2-c\n",
    "modified_edges = [\n",
    "    (\"A\", \"B\", 7),  # swapped\n",
    "    (\"A\", \"D\", 1),\n",
    "    (\"B\", \"D\", 4),\n",
    "    (\"B\", \"H\", 8),\n",
    "    (\"C\", \"D\", 2),\n",
    "    (\"C\", \"G\", 6),\n",
    "    (\"D\", \"E\", 2),\n",
    "    (\"D\", \"F\", 4),\n",
    "    (\"E\", \"H\", 8),\n",
    "    (\"F\", \"G\", 9),\n",
    "    (\"F\", \"H\", 5),  # swapped\n",
    "]\n",
    "a, b = kruskal_mst(nodes, modified_edges)\n",
    "print(a, b)"
   ]
  }
 ],
 "metadata": {
  "kernelspec": {
   "display_name": "Python 3",
   "language": "python",
   "name": "python3"
  },
  "language_info": {
   "codemirror_mode": {
    "name": "ipython",
    "version": 3
   },
   "file_extension": ".py",
   "mimetype": "text/x-python",
   "name": "python",
   "nbconvert_exporter": "python",
   "pygments_lexer": "ipython3",
   "version": "3.11.5"
  }
 },
 "nbformat": 4,
 "nbformat_minor": 2
}
