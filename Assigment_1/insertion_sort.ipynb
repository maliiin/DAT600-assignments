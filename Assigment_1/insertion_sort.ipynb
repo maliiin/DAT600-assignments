{
 "cells": [
  {
   "cell_type": "code",
   "execution_count": 6,
   "metadata": {},
   "outputs": [],
   "source": [
    "def insertion_sort(arr):\n",
    "    key = 0\n",
    "    length = len(arr)\n",
    "    while key < length:\n",
    "        for i in range(key):\n",
    "            if arr[key] < arr[i]:\n",
    "                arr_key = arr[key]\n",
    "                arr_i = arr[i]\n",
    "                arr[key] = arr_i\n",
    "                arr[i] = arr_key\n",
    "        key += 1\n",
    "    print(arr)"
   ]
  },
  {
   "cell_type": "code",
   "execution_count": 7,
   "metadata": {},
   "outputs": [
    {
     "name": "stdout",
     "output_type": "stream",
     "text": [
      "[6, 5, 4, 3, 2, 1]\n",
      "[6, 5, 4, 3, 2, 1]\n"
     ]
    }
   ],
   "source": [
    "B=[5,2,4,6,1,3]\n",
    "steps=insertion_sort(B)\n",
    "print(B)"
   ]
  }
 ],
 "metadata": {
  "kernelspec": {
   "display_name": "Python 3",
   "language": "python",
   "name": "python3"
  },
  "language_info": {
   "codemirror_mode": {
    "name": "ipython",
    "version": 3
   },
   "file_extension": ".py",
   "mimetype": "text/x-python",
   "name": "python",
   "nbconvert_exporter": "python",
   "pygments_lexer": "ipython3",
   "version": "3.11.5"
  }
 },
 "nbformat": 4,
 "nbformat_minor": 2
}
