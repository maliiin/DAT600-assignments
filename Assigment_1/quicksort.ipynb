{
 "cells": [
  {
   "cell_type": "code",
   "execution_count": 1,
   "metadata": {},
   "outputs": [],
   "source": [
    "import numpy\n",
    "import sys\n",
    "\n",
    "step_counter = 0\n",
    "\n",
    "def quicksort(array):\n",
    "    global step_counter\n",
    "    if len(array) < 2:\n",
    "        return array\n",
    "    pivot = array.pop()\n",
    "    # Step for extracting pivot\n",
    "    step_counter += 1\n",
    "    left_array = []\n",
    "    right_array = []\n",
    "    for element in array:\n",
    "        # Step for adding element to left or right array pivot\n",
    "        step_counter += 1\n",
    "        if element <= pivot:\n",
    "            left_array.append(element)\n",
    "        else:\n",
    "            right_array.append(element)\n",
    "    array.append(pivot)\n",
    "    # Step for concatenating arrays to the sorted arrays\n",
    "    step_counter += 1\n",
    "    return numpy.concatenate((quicksort(left_array), numpy.array([pivot], dtype=int), quicksort(right_array)))"
   ]
  },
  {
   "cell_type": "code",
   "execution_count": 2,
   "metadata": {},
   "outputs": [
    {
     "name": "stdout",
     "output_type": "stream",
     "text": [
      "17\n"
     ]
    }
   ],
   "source": [
    "\n",
    "unsorted_arr = [5,2,4,6,1,3]\n",
    "quicksort(unsorted_arr)\n",
    "print(step_counter)"
   ]
  },
  {
   "cell_type": "code",
   "execution_count": 4,
   "metadata": {},
   "outputs": [
    {
     "name": "stdout",
     "output_type": "stream",
     "text": [
      "13 / 13\n"
     ]
    },
    {
     "ename": "",
     "evalue": "",
     "output_type": "error",
     "traceback": [
      "\u001b[1;31mThe Kernel crashed while executing code in the the current cell or a previous cell. Please review the code in the cell(s) to identify a possible cause of the failure. Click <a href='https://aka.ms/vscodeJupyterKernelCrash'>here</a> for more info. View Jupyter <a href='command:jupyter.viewOutput'>log</a> for further details."
     ]
    }
   ],
   "source": [
    "import matplotlib.pyplot as plt\n",
    "import matplotlib as mpl\n",
    "import math\n",
    "mpl.rcParams['figure.figsize'] = [16,4]\n",
    "#mpl.rcParams.update({'font.size': 12})\n",
    "\n",
    "from IPython.display import clear_output\n",
    "fig, ax = plt.subplots(1, 2)\n",
    "fig.suptitle('Counted steps and Asymptotic running time')\n",
    "\n",
    "\n",
    "B=[5,2,4,6,1,3]\n",
    "points=13 # plotting points\n",
    "x=[]\n",
    "y=[]\n",
    "ref=[]\n",
    "c=[]\n",
    "\n",
    "for i in range(0,points):\n",
    "    clear_output(wait=True)\n",
    "    print(i+1,\"/\", points)\n",
    "    global step_counter\n",
    "    step_counter = 0\n",
    "    length_of_b = len(B)\n",
    "    quicksort(B)\n",
    "    print(B)\n",
    "    steps=step_counter \n",
    "    # double the size of the list to sort\n",
    "    B=B*2\n",
    "    x.append(len(B))\n",
    "    y.append(steps)    \n",
    "    a=len(B)*math.log(len(B),2)\n",
    "    c.append(steps/(a))# quick and dirty estimation of c--> T(sort)=c.log(N)\n",
    "    \n",
    "for v in x:\n",
    "    ref.append([v*math.log(v) *c[6]])\n",
    "ax[0].plot(x,y, color=\"red\", label=\"counted steps\")\n",
    "ax[0].plot(x,ref, color=\"green\", label= str(round(c[6],2)) + \".log(n) --> O(log(n))\")\n",
    "ax[0].set_xlabel(\"size of n\")\n",
    "ax[0].set_ylabel(\"computation steps\")\n",
    "ax[0].legend()\n",
    "\n",
    "ax[1].scatter(x,c, label= \"approximation of c\" )\n",
    "ax[1].set_xlabel(\"size of n\")\n",
    "ax[1].set_ylabel(\"c factor\")\n",
    "\n",
    "print(x)\n",
    "print(y)\n",
    "    \n",
    "    "
   ]
  }
 ],
 "metadata": {
  "kernelspec": {
   "display_name": "Python 3",
   "language": "python",
   "name": "python3"
  },
  "language_info": {
   "codemirror_mode": {
    "name": "ipython",
    "version": 3
   },
   "file_extension": ".py",
   "mimetype": "text/x-python",
   "name": "python",
   "nbconvert_exporter": "python",
   "pygments_lexer": "ipython3",
   "version": "3.8.2"
  }
 },
 "nbformat": 4,
 "nbformat_minor": 2
}
